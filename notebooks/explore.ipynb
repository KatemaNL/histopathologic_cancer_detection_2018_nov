{
 "cells": [
  {
   "cell_type": "code",
   "execution_count": 1,
   "metadata": {},
   "outputs": [
    {
     "name": "stdout",
     "output_type": "stream",
     "text": [
      "Python executable: /opt/venv/tensorflow/bin/python3.6\n",
      "Python version: 3.6.7 (default, Oct 22 2018, 11:32:17) \n",
      "[GCC 8.2.0]\n",
      "Working dir: /media/data_old/documents/kennistechnologie/projects/kaggle/histopathologic_cancer_detection_2018_nov\n"
     ]
    }
   ],
   "source": [
    "import os\n",
    "import sys\n",
    "print('Python executable: ' + str(sys.executable))\n",
    "print('Python version: ' + str(sys.version))\n",
    "print('Working dir: ' + str(os.getcwd()))"
   ]
  },
  {
   "cell_type": "code",
   "execution_count": 35,
   "metadata": {},
   "outputs": [],
   "source": [
    "#sys.path.append('src')"
   ]
  },
  {
   "cell_type": "code",
   "execution_count": 38,
   "metadata": {},
   "outputs": [],
   "source": [
    "import numpy as np\n",
    "import pandas as pd\n",
    "import PIL\n",
    "from PIL.Image import Image\n",
    "from matplotlib.pyplot import imshow\n",
    "\n",
    "from histopathologic.path_helper import PathHelper"
   ]
  },
  {
   "cell_type": "code",
   "execution_count": 3,
   "metadata": {},
   "outputs": [],
   "source": [
    "%matplotlib inline"
   ]
  },
  {
   "cell_type": "code",
   "execution_count": 4,
   "metadata": {},
   "outputs": [],
   "source": [
    "def get_subdir_path(subdir):\n",
    "    return os.path.join(os.getcwd(), subdir)\n",
    "\n",
    "def get_path_for_file_in_dataset(filename, dataset, preprocessed=False):\n",
    "    path_dir = get_dir_for_dataset(dataset, preprocessed)\n",
    "    return os.path.join(path_dir, filename)\n",
    "\n",
    "def get_image_for_file(filepath):\n",
    "    image_pillow = PIL.Image.open(filepath, 'r')\n",
    "    return image_pillow\n",
    "\n",
    "def save_image(image: Image, filepath: str) -> None:\n",
    "    image.save(filepath)\n",
    "\n",
    "def get_greyscale_for_image(image: Image) -> Image:\n",
    "    assert isinstance(image, Image)\n",
    "    greyscale_image = image.convert('L')\n",
    "    return greyscale_image\n",
    "\n",
    "def get_greyscale_image_for_file(filepath):\n",
    "    image = get_image_for_file(filepath)\n",
    "    greyscale_image = image.convert('L')\n",
    "    return greyscale_image\n",
    "\n",
    "def get_center_image(image: Image) -> Image:\n",
    "    assert isinstance(image, Image)\n",
    "    image_array = np.array(image)\n",
    "    center_image_array = image_array[31:63, 31:63]\n",
    "    center_image = PIL.Image.fromarray(center_image_array)\n",
    "    return center_image\n",
    "\n",
    "def get_array_for_file(filepath):\n",
    "    image_pillow = PIL.Image.open(filepath, 'r')\n",
    "    image_array = np.array(image_pillow)\n",
    "    return image_array\n",
    "\n",
    "def get_shape_from_image_file(filepath):\n",
    "    image_array = get_array_for_file(filepath)\n",
    "    return image_array.shape\n",
    "\n",
    "def get_filename_with_postfix(filename: str, postfix: str) -> str:\n",
    "    basename, extension = filename.split(sep='.')\n",
    "    new_file_name = basename + postfix + '.' + extension\n",
    "    return new_file_name\n",
    "\n",
    "def add_processed_dir_to_filepath(filepath: str) -> str:\n",
    "    new_filepath = os.path.join(os.path.dirname(filepath), 'preprocessed', os.path.basename(filepath))\n",
    "    return new_filepath\n",
    "\n",
    "def preprocess_and_save_file(filepath_in: str, filepath_out: str) -> None:\n",
    "    image = get_image_for_file(filepath_in)\n",
    "    #image = get_greyscale_for_image(image)\n",
    "    image = get_center_image(image)    \n",
    "    save_image(image, filepath_out)\n",
    "\n",
    "def preprocess_samples_in_dir_to_dir(in_dir: str, to_dir: str, print_process_every_n_samples=10000) -> None:\n",
    "    samples_files = os.listdir(in_dir)\n",
    "    for i in range(len(samples_files)):\n",
    "        if i % print_process_every_n_samples == 0:\n",
    "            print('Converting {} of {}'.format(i, len(samples_files)))   \n",
    "        file = samples_files[i]\n",
    "        filepath_in = os.path.join(in_dir, file)\n",
    "        filepath_out = os.path.join(to_dir, file)\n",
    "        preprocess_and_save_file(filepath_in, filepath_out)\n",
    "\n",
    "def preprocess_dataset(dataset: str) -> None:\n",
    "    files_dir_in = get_dir_for_dataset(dataset)\n",
    "    files_dir_out = get_dir_for_dataset(dataset, preprocessed=True)\n",
    "    preprocess_samples_in_dir_to_dir(files_dir_in, files_dir_out)\n",
    "\n",
    "def load_dataset_from_path(filepath):\n",
    "    print('Loading dataset from: ' + str(filepath))\n",
    "    dataset = np.load(filepath)\n",
    "    print('Loaded dataset shape: ' + str(dataset.shape))\n",
    "    return dataset\n",
    "    \n",
    "def save_dataset_to_path(dataset, filepath):\n",
    "    print('Saving dataset of shape \"{}\" to: {} '.format(dataset.shape, filepath))\n",
    "    np.save(filepath, dataset)\n",
    "\n",
    "def load_train_dataset_from_samples_and_labels(samples_dir: str, filepath_labels, print_progress_every_n_samples=10000):  \n",
    "    print('Loading dataset with samples from \"{}\" and labels from \"{}\"'.format(samples_dir, filepath_labels))\n",
    "    labels = pd.read_csv(filepath_labels, delimiter=\",\")\n",
    "    \n",
    "    sample_file, _ = labels.iloc[0]\n",
    "    sample_filepath = os.path.join(samples_dir, sample_file + '.tif')\n",
    "    image_shape = get_shape_from_image_file(sample_filepath)\n",
    "    dataset_shape = (labels.shape[0], image_shape[0], image_shape[1], image_shape[2])\n",
    "    \n",
    "    dataset = np.zeros(dataset_shape, dtype=np.uint8)\n",
    "    dataset_labels = np.zeros((dataset_shape[0], 1), dtype=np.uint8)\n",
    "    for i in range(len(labels)):\n",
    "        if i % print_progress_every_n_samples == 0:\n",
    "            print('Loading {} of {}'.format(i, len(labels)))\n",
    "        sample_name, sample_label = labels.iloc[i]        \n",
    "        sample_filepath = os.path.join(samples_dir, sample_name + '.tif')\n",
    "        image_array = get_array_for_file(sample_filepath)        \n",
    "        dataset[i] = image_array\n",
    "        dataset_labels[i] = sample_label\n",
    "    \n",
    "    print('Resulting dataset shape: ' + str(dataset.shape))\n",
    "    print('Resulting labels shape: ' + str(dataset_labels.shape))\n",
    "    \n",
    "    return dataset, dataset_labels"
   ]
  },
  {
   "cell_type": "code",
   "execution_count": null,
   "metadata": {},
   "outputs": [],
   "source": []
  },
  {
   "cell_type": "code",
   "execution_count": 41,
   "metadata": {},
   "outputs": [],
   "source": [
    "train_samples_files = os.listdir(PathHelper.get_dir_for_dataset('train'))\n",
    "test_samples_files = os.listdir(PathHelper.get_dir_for_dataset('test'))"
   ]
  },
  {
   "cell_type": "code",
   "execution_count": 40,
   "metadata": {},
   "outputs": [
    {
     "name": "stdout",
     "output_type": "stream",
     "text": [
      "# Train samples: 220025\n",
      "# Test samples: 57458\n"
     ]
    }
   ],
   "source": [
    "print('# Train samples: ' + str(len(train_samples_files)))\n",
    "print('# Test samples: ' + str(len(test_samples_files)))"
   ]
  },
  {
   "cell_type": "code",
   "execution_count": 7,
   "metadata": {},
   "outputs": [
    {
     "data": {
      "text/plain": [
       "<matplotlib.image.AxesImage at 0x7f7b3d1f34a8>"
      ]
     },
     "execution_count": 7,
     "metadata": {},
     "output_type": "execute_result"
    },
    {
     "data": {
      "image/png": "[encoded data removed]",
      "text/plain": [
       "<Figure size 432x288 with 1 Axes>"
      ]
     },
     "metadata": {
      "needs_background": "light"
     },
     "output_type": "display_data"
    }
   ],
   "source": [
    "sample_file = train_samples_files[0]\n",
    "sample_filepath = get_path_for_file_in_dataset(sample_file, 'train')\n",
    "image = get_image_for_file(sample_filepath)\n",
    "imshow(image)"
   ]
  },
  {
   "cell_type": "markdown",
   "metadata": {},
   "source": [
    "# Preprocess"
   ]
  },
  {
   "cell_type": "code",
   "execution_count": 279,
   "metadata": {},
   "outputs": [
    {
     "name": "stdout",
     "output_type": "stream",
     "text": [
      "Converting 0 of 220025\n",
      "Converting 10000 of 220025\n",
      "Converting 20000 of 220025\n",
      "Converting 30000 of 220025\n",
      "Converting 40000 of 220025\n",
      "Converting 50000 of 220025\n",
      "Converting 60000 of 220025\n",
      "Converting 70000 of 220025\n",
      "Converting 80000 of 220025\n",
      "Converting 90000 of 220025\n",
      "Converting 100000 of 220025\n",
      "Converting 110000 of 220025\n",
      "Converting 120000 of 220025\n",
      "Converting 130000 of 220025\n",
      "Converting 140000 of 220025\n",
      "Converting 150000 of 220025\n",
      "Converting 160000 of 220025\n",
      "Converting 170000 of 220025\n",
      "Converting 180000 of 220025\n",
      "Converting 190000 of 220025\n",
      "Converting 200000 of 220025\n",
      "Converting 210000 of 220025\n",
      "Converting 220000 of 220025\n"
     ]
    }
   ],
   "source": [
    "preprocess = False\n",
    "if preprocess:    \n",
    "    preprocess_dataset('train')\n",
    "    preprocess_dataset('test')"
   ]
  },
  {
   "cell_type": "code",
   "execution_count": 287,
   "metadata": {},
   "outputs": [
    {
     "name": "stdout",
     "output_type": "stream",
     "text": [
      "data/train/preprocessed/samples/a3858960739468450106f7484b30440391a8caef.tif\n"
     ]
    },
    {
     "data": {
      "text/plain": [
       "<matplotlib.image.AxesImage at 0x7f7b008113c8>"
      ]
     },
     "execution_count": 287,
     "metadata": {},
     "output_type": "execute_result"
    },
    {
     "data": {
      "image/png": "[encoded data removed]",
      "text/plain": [
       "<Figure size 432x288 with 1 Axes>"
      ]
     },
     "metadata": {
      "needs_background": "light"
     },
     "output_type": "display_data"
    }
   ],
   "source": [
    "preprocessed_train_samples_files_dir = get_dir_for_dataset('train', preprocessed=True)\n",
    "preprocessed_train_samples_files = os.listdir(preprocessed_train_samples_files_dir)\n",
    "sample_file = preprocessed_train_samples_files[0]\n",
    "sample_filedir = preprocessed_train_samples_files_dir\n",
    "sample_filepath = os.path.join(sample_filedir, sample_file)\n",
    "print(sample_filepath)\n",
    "image = get_image_for_file(sample_filepath)\n",
    "imshow(image)"
   ]
  },
  {
   "cell_type": "code",
   "execution_count": 286,
   "metadata": {},
   "outputs": [
    {
     "data": {
      "text/plain": [
       "(32, 32, 3)"
      ]
     },
     "execution_count": 286,
     "metadata": {},
     "output_type": "execute_result"
    }
   ],
   "source": [
    "np.array(image).shape"
   ]
  },
  {
   "cell_type": "markdown",
   "metadata": {},
   "source": [
    "# Load data"
   ]
  },
  {
   "cell_type": "markdown",
   "metadata": {},
   "source": [
    "## From samples"
   ]
  },
  {
   "cell_type": "code",
   "execution_count": 288,
   "metadata": {},
   "outputs": [
    {
     "name": "stdout",
     "output_type": "stream",
     "text": [
      "Loading dataset with samples from \"data/train/preprocessed/samples\" and labels from \"data/train/labels/train_labels.csv\"\n",
      "Loading 0 of 220025\n",
      "Loading 10000 of 220025\n",
      "Loading 20000 of 220025\n",
      "Loading 30000 of 220025\n",
      "Loading 40000 of 220025\n",
      "Loading 50000 of 220025\n",
      "Loading 60000 of 220025\n",
      "Loading 70000 of 220025\n",
      "Loading 80000 of 220025\n",
      "Loading 90000 of 220025\n",
      "Loading 100000 of 220025\n",
      "Loading 110000 of 220025\n",
      "Loading 120000 of 220025\n",
      "Loading 130000 of 220025\n",
      "Loading 140000 of 220025\n",
      "Loading 150000 of 220025\n",
      "Loading 160000 of 220025\n",
      "Loading 170000 of 220025\n",
      "Loading 180000 of 220025\n",
      "Loading 190000 of 220025\n",
      "Loading 200000 of 220025\n",
      "Loading 210000 of 220025\n",
      "Loading 220000 of 220025\n",
      "Resulting dataset shape: (220025, 32, 32, 3)\n",
      "Resulting labels shape: (220025, 1)\n"
     ]
    }
   ],
   "source": [
    "load_from_samples = True\n",
    "if load_from_samples:\n",
    "    dataset = 'train'\n",
    "    preprocessed = True\n",
    "    filepath_labels = os.path.join(DATA_DIR, TRAIN_DATA_SUBDIR, LABEL_SUBDIR, 'train_labels.csv')\n",
    "    samples_dir = get_dir_for_dataset(dataset, preprocessed)\n",
    "    dataset, dataset_labels = load_train_dataset_from_samples_and_labels(samples_dir, filepath_labels)"
   ]
  },
  {
   "cell_type": "code",
   "execution_count": 289,
   "metadata": {},
   "outputs": [
    {
     "data": {
      "text/plain": [
       "<matplotlib.image.AxesImage at 0x7f7b0b332668>"
      ]
     },
     "execution_count": 289,
     "metadata": {},
     "output_type": "execute_result"
    },
    {
     "data": {
      "image/png": "[encoded data removed]",
      "text/plain": [
       "<Figure size 432x288 with 1 Axes>"
      ]
     },
     "metadata": {
      "needs_background": "light"
     },
     "output_type": "display_data"
    }
   ],
   "source": [
    "imshow(PIL.Image.fromarray(dataset[3]))"
   ]
  },
  {
   "cell_type": "code",
   "execution_count": 290,
   "metadata": {},
   "outputs": [
    {
     "data": {
      "text/plain": [
       "660075.140625"
      ]
     },
     "execution_count": 290,
     "metadata": {},
     "output_type": "execute_result"
    }
   ],
   "source": [
    "from sys import getsizeof\n",
    "getsizeof(dataset) / 1024"
   ]
  },
  {
   "cell_type": "markdown",
   "metadata": {},
   "source": [
    "## Save full datasets"
   ]
  },
  {
   "cell_type": "code",
   "execution_count": 291,
   "metadata": {},
   "outputs": [
    {
     "name": "stdout",
     "output_type": "stream",
     "text": [
      "Saving dataset of shape \"(220025, 32, 32, 3)\" to: data/train/preprocessed/dataset/dataset.npy \n",
      "Saving dataset of shape \"(220025, 1)\" to: data/train/labels/dataset_labels.npy \n"
     ]
    }
   ],
   "source": [
    "convert_to_single_dataset = True\n",
    "dataset_name = 'train'\n",
    "preprocessed=True\n",
    "full_dataset=True\n",
    "if convert_to_single_dataset:    \n",
    "    # Save dataset\n",
    "    save_dir = get_dir_for_dataset('train', preprocessed, full_dataset)    \n",
    "    filename = 'dataset.npy'\n",
    "    filepath = os.path.join(save_dir, filename)\n",
    "    save_dataset_to_path(dataset, filepath)\n",
    "    \n",
    "    # Save labels\n",
    "    save_dir = get_dir_for_dataset('train', preprocessed, full_dataset, labels=True)  \n",
    "    filename = 'dataset_labels.npy'\n",
    "    filepath = os.path.join(save_dir, filename)\n",
    "    save_dataset_to_path(dataset_labels, filepath)"
   ]
  },
  {
   "cell_type": "markdown",
   "metadata": {},
   "source": [
    "## Load from full datasets"
   ]
  },
  {
   "cell_type": "code",
   "execution_count": 5,
   "metadata": {},
   "outputs": [
    {
     "name": "stdout",
     "output_type": "stream",
     "text": [
      "Loading dataset from: data/train/preprocessed/dataset/dataset.npy\n",
      "Loaded dataset shape: (220025, 32, 32, 3)\n",
      "Loading dataset from: data/train/labels/dataset_labels.npy\n",
      "Loaded dataset shape: (220025, 1)\n"
     ]
    }
   ],
   "source": [
    "load_from_full_dataset = True\n",
    "dataset_name = 'train'\n",
    "preprocessed=True\n",
    "full_dataset=True\n",
    "if load_from_full_dataset:    \n",
    "    # Save dataset\n",
    "    save_dir = get_dir_for_dataset('train', preprocessed, full_dataset)    \n",
    "    filename = 'dataset.npy'\n",
    "    filepath = os.path.join(save_dir, filename)\n",
    "    dataset = load_dataset_from_path(filepath)\n",
    "    \n",
    "    # Save labels\n",
    "    save_dir = get_dir_for_dataset('train', preprocessed, full_dataset, labels=True)  \n",
    "    filename = 'dataset_labels.npy'\n",
    "    filepath = os.path.join(save_dir, filename)\n",
    "    dataset_labels = load_dataset_from_path(filepath)"
   ]
  },
  {
   "cell_type": "code",
   "execution_count": 6,
   "metadata": {},
   "outputs": [],
   "source": [
    "reshape = False\n",
    "if reshape:\n",
    "    dataset = dataset.reshape(dataset.shape[0], dataset.shape[1], dataset.shape[2], 1)\n",
    "    dataset.shape"
   ]
  },
  {
   "cell_type": "code",
   "execution_count": 26,
   "metadata": {},
   "outputs": [
    {
     "name": "stdout",
     "output_type": "stream",
     "text": [
      "Dataset shape: (220025, 32, 32, 3), Labels: (220025, 32, 32, 3)\n",
      "Dataset size: 0.63GB\n"
     ]
    }
   ],
   "source": [
    "from sys import getsizeof\n",
    "print('Dataset shape: ' + str(dataset.shape) + ', Labels: ' + str(dataset.shape))\n",
    "print('Dataset size: ' + str(round(getsizeof(dataset) / (1024 * 1024 * 1024), 2)) + 'GB')"
   ]
  },
  {
   "cell_type": "markdown",
   "metadata": {},
   "source": [
    "# Data splits"
   ]
  },
  {
   "cell_type": "code",
   "execution_count": 27,
   "metadata": {},
   "outputs": [],
   "source": [
    "train_pct = 70\n",
    "valid_pct = 30"
   ]
  },
  {
   "cell_type": "code",
   "execution_count": 28,
   "metadata": {},
   "outputs": [],
   "source": [
    "idx_all = np.arange(len(dataset))\n",
    "np.random.seed(81)\n",
    "np.random.shuffle(idx_all)"
   ]
  },
  {
   "cell_type": "code",
   "execution_count": 29,
   "metadata": {},
   "outputs": [],
   "source": [
    "idx_train_from = 0\n",
    "idx_train_to = np.math.floor(0.7 * len(dataset))\n",
    "idx_valid_from = idx_train_to + 1\n",
    "idx_valid_to = len(dataset) - 1"
   ]
  },
  {
   "cell_type": "code",
   "execution_count": 30,
   "metadata": {},
   "outputs": [],
   "source": [
    "idx_train = idx_all[idx_train_from:idx_train_to]\n",
    "idx_valid = idx_all[idx_valid_from:idx_valid_to]"
   ]
  },
  {
   "cell_type": "code",
   "execution_count": 31,
   "metadata": {},
   "outputs": [
    {
     "name": "stdout",
     "output_type": "stream",
     "text": [
      "Train: 0.6999977275309623\n",
      "Valid: 0.29999318259288715\n"
     ]
    }
   ],
   "source": [
    "print('Train: ' + str(len(idx_train) / len(idx_all)))\n",
    "print('Valid: ' + str(len(idx_valid) / len(idx_all)))"
   ]
  },
  {
   "cell_type": "code",
   "execution_count": 32,
   "metadata": {},
   "outputs": [],
   "source": [
    "dataset_train = dataset[idx_train]\n",
    "dataset_train_labels = dataset_labels[idx_train]\n",
    "dataset_valid = dataset[idx_valid]\n",
    "dataset_valid_labels = dataset_labels[idx_valid]"
   ]
  },
  {
   "cell_type": "code",
   "execution_count": 33,
   "metadata": {},
   "outputs": [
    {
     "data": {
      "text/plain": [
       "array([[1],\n",
       "       [1],\n",
       "       [1],\n",
       "       [0],\n",
       "       [0],\n",
       "       [1],\n",
       "       [1],\n",
       "       [1],\n",
       "       [0],\n",
       "       [0]], dtype=uint8)"
      ]
     },
     "execution_count": 33,
     "metadata": {},
     "output_type": "execute_result"
    }
   ],
   "source": [
    "dataset_train_labels[0:10]"
   ]
  },
  {
   "cell_type": "code",
   "execution_count": 13,
   "metadata": {},
   "outputs": [
    {
     "data": {
      "text/plain": [
       "89117"
      ]
     },
     "execution_count": 13,
     "metadata": {},
     "output_type": "execute_result"
    }
   ],
   "source": [
    "np.sum(dataset_labels)"
   ]
  },
  {
   "cell_type": "code",
   "execution_count": 14,
   "metadata": {},
   "outputs": [],
   "source": [
    "batch_size=32\n",
    "n_samples_cut = len(dataset_train) % batch_size\n",
    "samples_index = range(len(dataset_train))\n",
    "samples_index = samples_index[:-n_samples_cut]\n",
    "\n",
    "dataset_train = dataset_train[samples_index]\n",
    "dataset_train_labels = dataset_train_labels[samples_index]"
   ]
  },
  {
   "cell_type": "code",
   "execution_count": 15,
   "metadata": {},
   "outputs": [],
   "source": [
    "n_samples_cut = len(dataset_valid) % batch_size\n",
    "samples_index = range(len(dataset_valid))\n",
    "samples_index = samples_index[:-n_samples_cut]\n",
    "\n",
    "dataset_valid = dataset_valid[samples_index]\n",
    "dataset_valid_labels = dataset_valid_labels[samples_index]"
   ]
  },
  {
   "cell_type": "code",
   "execution_count": 16,
   "metadata": {},
   "outputs": [
    {
     "name": "stdout",
     "output_type": "stream",
     "text": [
      "Train: (154016, 32, 32, 3) Labels: (154016, 1)\n",
      "valid: (65984, 32, 32, 3)\n"
     ]
    }
   ],
   "source": [
    "print('Train: ' + str(dataset_train.shape) + ' Labels: ' + str(dataset_train_labels.shape))\n",
    "print('valid: ' + str(dataset_valid.shape))"
   ]
  },
  {
   "cell_type": "markdown",
   "metadata": {},
   "source": [
    "# Tensorflow"
   ]
  },
  {
   "cell_type": "code",
   "execution_count": 149,
   "metadata": {},
   "outputs": [
    {
     "name": "stdout",
     "output_type": "stream",
     "text": [
      "Tensorflow: 1.12.0\n"
     ]
    }
   ],
   "source": [
    "import tensorflow as tf\n",
    "print('Tensorflow: ' + str(tf.__version__))"
   ]
  },
  {
   "cell_type": "code",
   "execution_count": 55,
   "metadata": {},
   "outputs": [],
   "source": [
    "X = tf.placeholder(tf.float16, (32, 32))\n",
    "Z1 = tf.layers.dense(X, units=1)\n",
    "A1 = tf.sigmoid(Z1)"
   ]
  },
  {
   "cell_type": "code",
   "execution_count": 49,
   "metadata": {},
   "outputs": [],
   "source": [
    "session = tf.Session()\n",
    "init = tf.global_variables_initializer()\n",
    "session.run(init)"
   ]
  },
  {
   "cell_type": "code",
   "execution_count": 50,
   "metadata": {},
   "outputs": [
    {
     "data": {
      "text/plain": [
       "<tensorflow.python.client.session.Session at 0x7f773d67f8d0>"
      ]
     },
     "execution_count": 50,
     "metadata": {},
     "output_type": "execute_result"
    }
   ],
   "source": [
    "session.run(A1)"
   ]
  },
  {
   "cell_type": "code",
   "execution_count": null,
   "metadata": {},
   "outputs": [],
   "source": []
  },
  {
   "cell_type": "markdown",
   "metadata": {},
   "source": [
    " # Keras"
   ]
  },
  {
   "cell_type": "code",
   "execution_count": 17,
   "metadata": {},
   "outputs": [
    {
     "name": "stdout",
     "output_type": "stream",
     "text": [
      "Tensorflow: 1.12.0\n",
      "Keras: 2.1.6-tf\n"
     ]
    }
   ],
   "source": [
    "import tensorflow as tf\n",
    "from tensorflow import keras\n",
    "from tensorflow.keras import layers\n",
    "print('Tensorflow: ' + str(tf.__version__))\n",
    "print('Keras: ' + str(keras.__version__))"
   ]
  },
  {
   "cell_type": "code",
   "execution_count": 18,
   "metadata": {},
   "outputs": [
    {
     "name": "stdout",
     "output_type": "stream",
     "text": [
      "[name: \"/device:CPU:0\"\n",
      "device_type: \"CPU\"\n",
      "memory_limit: 268435456\n",
      "locality {\n",
      "}\n",
      "incarnation: 6028005759825379750\n",
      ", name: \"/device:XLA_GPU:0\"\n",
      "device_type: \"XLA_GPU\"\n",
      "memory_limit: 17179869184\n",
      "locality {\n",
      "}\n",
      "incarnation: 10603279029409230139\n",
      "physical_device_desc: \"device: XLA_GPU device\"\n",
      ", name: \"/device:XLA_CPU:0\"\n",
      "device_type: \"XLA_CPU\"\n",
      "memory_limit: 17179869184\n",
      "locality {\n",
      "}\n",
      "incarnation: 2802806023797228123\n",
      "physical_device_desc: \"device: XLA_CPU device\"\n",
      ", name: \"/device:GPU:0\"\n",
      "device_type: \"GPU\"\n",
      "memory_limit: 6921977856\n",
      "locality {\n",
      "  bus_id: 1\n",
      "  links {\n",
      "  }\n",
      "}\n",
      "incarnation: 7113043482357093323\n",
      "physical_device_desc: \"device: 0, name: GeForce RTX 2070, pci bus id: 0000:01:00.0, compute capability: 7.5\"\n",
      "]\n"
     ]
    },
    {
     "name": "stderr",
     "output_type": "stream",
     "text": [
      "Using TensorFlow backend.\n"
     ]
    },
    {
     "data": {
      "text/plain": [
       "['/job:localhost/replica:0/task:0/device:GPU:0']"
      ]
     },
     "execution_count": 18,
     "metadata": {},
     "output_type": "execute_result"
    }
   ],
   "source": [
    "from tensorflow.python.client import device_lib\n",
    "print(device_lib.list_local_devices())\n",
    "from keras import backend as K\n",
    "K.tensorflow_backend._get_available_gpus()"
   ]
  },
  {
   "cell_type": "markdown",
   "metadata": {},
   "source": [
    "## Single layer NN"
   ]
  },
  {
   "cell_type": "code",
   "execution_count": 18,
   "metadata": {},
   "outputs": [],
   "source": [
    "model = tf.keras.Sequential()\n",
    "model.add(layers.Dense(1, input_dim=1024, kernel_initializer='normal', activation='sigmoid'))"
   ]
  },
  {
   "cell_type": "code",
   "execution_count": 19,
   "metadata": {},
   "outputs": [],
   "source": [
    "model.compile(optimizer=tf.train.AdamOptimizer(0.001),\n",
    "              loss='binary_crossentropy',\n",
    "              metrics=['accuracy'])"
   ]
  },
  {
   "cell_type": "code",
   "execution_count": 20,
   "metadata": {},
   "outputs": [
    {
     "name": "stdout",
     "output_type": "stream",
     "text": [
      "_________________________________________________________________\n",
      "Layer (type)                 Output Shape              Param #   \n",
      "=================================================================\n",
      "dense (Dense)                (None, 1)                 1025      \n",
      "=================================================================\n",
      "Total params: 1,025\n",
      "Trainable params: 1,025\n",
      "Non-trainable params: 0\n",
      "_________________________________________________________________\n"
     ]
    }
   ],
   "source": [
    "model.summary()"
   ]
  },
  {
   "cell_type": "code",
   "execution_count": 21,
   "metadata": {},
   "outputs": [
    {
     "ename": "ValueError",
     "evalue": "cannot reshape array of size 473137152 into shape (154016,1024)",
     "output_type": "error",
     "traceback": [
      "\u001b[0;31m---------------------------------------------------------------------------\u001b[0m",
      "\u001b[0;31mValueError\u001b[0m                                Traceback (most recent call last)",
      "\u001b[0;32m<ipython-input-21-b3bde3bbcc84>\u001b[0m in \u001b[0;36m<module>\u001b[0;34m\u001b[0m\n\u001b[0;32m----> 1\u001b[0;31m \u001b[0mdataset_train_flatten\u001b[0m \u001b[0;34m=\u001b[0m \u001b[0mdataset_train\u001b[0m\u001b[0;34m.\u001b[0m\u001b[0mreshape\u001b[0m\u001b[0;34m(\u001b[0m\u001b[0mdataset_train\u001b[0m\u001b[0;34m.\u001b[0m\u001b[0mshape\u001b[0m\u001b[0;34m[\u001b[0m\u001b[0;36m0\u001b[0m\u001b[0;34m]\u001b[0m\u001b[0;34m,\u001b[0m \u001b[0mdataset_train\u001b[0m\u001b[0;34m.\u001b[0m\u001b[0mshape\u001b[0m\u001b[0;34m[\u001b[0m\u001b[0;36m1\u001b[0m\u001b[0;34m]\u001b[0m \u001b[0;34m*\u001b[0m \u001b[0mdataset_train\u001b[0m\u001b[0;34m.\u001b[0m\u001b[0mshape\u001b[0m\u001b[0;34m[\u001b[0m\u001b[0;36m2\u001b[0m\u001b[0;34m]\u001b[0m\u001b[0;34m)\u001b[0m\u001b[0;34m\u001b[0m\u001b[0;34m\u001b[0m\u001b[0m\n\u001b[0m\u001b[1;32m      2\u001b[0m \u001b[0mdataset_train_flatten\u001b[0m\u001b[0;34m.\u001b[0m\u001b[0mshape\u001b[0m\u001b[0;34m\u001b[0m\u001b[0;34m\u001b[0m\u001b[0m\n",
      "\u001b[0;31mValueError\u001b[0m: cannot reshape array of size 473137152 into shape (154016,1024)"
     ]
    }
   ],
   "source": [
    "dataset_train_flatten = dataset_train.reshape(dataset_train.shape[0], dataset_train.shape[1] * dataset_train.shape[2])\n",
    "dataset_train_flatten.shape"
   ]
  },
  {
   "cell_type": "code",
   "execution_count": 199,
   "metadata": {},
   "outputs": [
    {
     "name": "stdout",
     "output_type": "stream",
     "text": [
      "Epoch 1/3\n",
      "154016/154016 [==============================] - 10s 63us/step - loss: 6.5337 - acc: 0.5946\n",
      "Epoch 2/3\n",
      "154016/154016 [==============================] - 9s 61us/step - loss: 6.5141 - acc: 0.5959\n",
      "Epoch 3/3\n",
      "154016/154016 [==============================] - 10s 62us/step - loss: 6.5141 - acc: 0.5959\n"
     ]
    },
    {
     "data": {
      "text/plain": [
       "<tensorflow.python.keras.callbacks.History at 0x7f7b14939ac8>"
      ]
     },
     "execution_count": 199,
     "metadata": {},
     "output_type": "execute_result"
    }
   ],
   "source": [
    "model.fit(dataset_train_flatten, dataset_train_labels, epochs=3, batch_size=batch_size)"
   ]
  },
  {
   "cell_type": "markdown",
   "metadata": {},
   "source": [
    "## Multilayer NN"
   ]
  },
  {
   "cell_type": "code",
   "execution_count": 204,
   "metadata": {},
   "outputs": [],
   "source": [
    "model = tf.keras.Sequential()\n",
    "model.add(layers.Dense(1024, input_dim=1024, activation='relu'))\n",
    "model.add(layers.Dense(1, kernel_initializer='normal', activation='sigmoid'))"
   ]
  },
  {
   "cell_type": "code",
   "execution_count": 205,
   "metadata": {},
   "outputs": [],
   "source": [
    "model.compile(optimizer=tf.train.AdamOptimizer(0.001),\n",
    "              loss='binary_crossentropy',\n",
    "              metrics=['accuracy'])"
   ]
  },
  {
   "cell_type": "code",
   "execution_count": 206,
   "metadata": {},
   "outputs": [
    {
     "name": "stdout",
     "output_type": "stream",
     "text": [
      "_________________________________________________________________\n",
      "Layer (type)                 Output Shape              Param #   \n",
      "=================================================================\n",
      "dense_26 (Dense)             (None, 1024)              1049600   \n",
      "_________________________________________________________________\n",
      "dense_27 (Dense)             (None, 1)                 1025      \n",
      "=================================================================\n",
      "Total params: 1,050,625\n",
      "Trainable params: 1,050,625\n",
      "Non-trainable params: 0\n",
      "_________________________________________________________________\n"
     ]
    }
   ],
   "source": [
    "model.summary()"
   ]
  },
  {
   "cell_type": "code",
   "execution_count": 207,
   "metadata": {},
   "outputs": [
    {
     "name": "stdout",
     "output_type": "stream",
     "text": [
      "Epoch 1/3\n",
      "154016/154016 [==============================] - 11s 73us/step - loss: 6.5141 - acc: 0.5959\n",
      "Epoch 2/3\n",
      "154016/154016 [==============================] - 11s 72us/step - loss: 6.5141 - acc: 0.5959\n",
      "Epoch 3/3\n",
      "154016/154016 [==============================] - 11s 72us/step - loss: 6.5141 - acc: 0.5959\n"
     ]
    },
    {
     "data": {
      "text/plain": [
       "<tensorflow.python.keras.callbacks.History at 0x7f7b14939b38>"
      ]
     },
     "execution_count": 207,
     "metadata": {},
     "output_type": "execute_result"
    }
   ],
   "source": [
    "model.fit(dataset_train_flatten, dataset_train_labels, epochs=3, batch_size=batch_size)"
   ]
  },
  {
   "cell_type": "markdown",
   "metadata": {},
   "source": [
    "## Convolutional Neural Network"
   ]
  },
  {
   "cell_type": "code",
   "execution_count": 52,
   "metadata": {},
   "outputs": [],
   "source": [
    "import tensorflow as tf\n",
    "from keras import layers, Sequential\n",
    "from keras.layers import Dropout, Dense, BatchNormalization, MaxPooling2D, Flatten, InputLayer\n",
    "from keras.layers.convolutional import Conv2D"
   ]
  },
  {
   "cell_type": "code",
   "execution_count": 33,
   "metadata": {},
   "outputs": [],
   "source": [
    "model = Sequential()\n",
    "model.add(BatchNormalization(input_shape=(32, 32, 3)))\n",
    "model.add(Conv2D(32, kernel_size=(3, 3), padding='same', activation='relu'))\n",
    "model.add(MaxPooling2D(pool_size=(2, 2)))\n",
    "model.add(Dropout(0.25))\n",
    "model.add(Conv2D(64, kernel_size=(3, 3), padding='same', activation='relu'))\n",
    "model.add(MaxPooling2D(pool_size=(2, 2)))\n",
    "model.add(Dropout(0.5))\n",
    "model.add(Conv2D(128, kernel_size=(3, 3), padding='same', activation='relu'))\n",
    "model.add(MaxPooling2D(pool_size=(2, 2)))\n",
    "model.add(Dropout(0.25))\n",
    "model.add(Conv2D(64, kernel_size=(1, 1), padding='same', activation='relu'))\n",
    "model.add(Flatten())\n",
    "model.add(Dense(1024, activation='relu'))\n",
    "model.add(Dense(1, kernel_initializer='normal', activation='sigmoid'))"
   ]
  },
  {
   "cell_type": "code",
   "execution_count": 90,
   "metadata": {},
   "outputs": [],
   "source": [
    "model = Sequential()\n",
    "model.add(InputLayer(input_shape=(32, 32, 3)))\n",
    "model.add(BatchNormalization())\n",
    "model.add(Conv2D(4, kernel_size=(3, 3), padding='same', activation='relu'))\n",
    "model.add(Flatten())\n",
    "model.add(Dropout(0.5))\n",
    "model.add(Dense(1024, activation='relu'))\n",
    "model.add(Dense(1, kernel_initializer='normal', activation='sigmoid'))"
   ]
  },
  {
   "cell_type": "code",
   "execution_count": 91,
   "metadata": {},
   "outputs": [],
   "source": [
    "model.compile(optimizer=tf.train.AdamOptimizer(0.001),\n",
    "              loss='binary_crossentropy',\n",
    "              metrics=['accuracy'])"
   ]
  },
  {
   "cell_type": "code",
   "execution_count": 92,
   "metadata": {},
   "outputs": [
    {
     "name": "stdout",
     "output_type": "stream",
     "text": [
      "_________________________________________________________________\n",
      "Layer (type)                 Output Shape              Param #   \n",
      "=================================================================\n",
      "batch_normalization_7 (Batch (None, 32, 32, 3)         12        \n",
      "_________________________________________________________________\n",
      "conv2d_26 (Conv2D)           (None, 32, 32, 4)         112       \n",
      "_________________________________________________________________\n",
      "flatten_12 (Flatten)         (None, 4096)              0         \n",
      "_________________________________________________________________\n",
      "dropout_13 (Dropout)         (None, 4096)              0         \n",
      "_________________________________________________________________\n",
      "dense_25 (Dense)             (None, 1024)              4195328   \n",
      "_________________________________________________________________\n",
      "dense_26 (Dense)             (None, 1)                 1025      \n",
      "=================================================================\n",
      "Total params: 4,196,477\n",
      "Trainable params: 4,196,471\n",
      "Non-trainable params: 6\n",
      "_________________________________________________________________\n"
     ]
    }
   ],
   "source": [
    "model.summary()"
   ]
  },
  {
   "cell_type": "code",
   "execution_count": 68,
   "metadata": {},
   "outputs": [
    {
     "name": "stdout",
     "output_type": "stream",
     "text": [
      "Epoch 1/3\n",
      "154016/154016 [==============================] - 5s 33us/step - loss: 0.5448 - acc: 0.7358\n",
      "Epoch 2/3\n",
      "154016/154016 [==============================] - 4s 28us/step - loss: 0.4796 - acc: 0.7780\n",
      "Epoch 3/3\n",
      "154016/154016 [==============================] - 4s 28us/step - loss: 0.4461 - acc: 0.7969\n"
     ]
    },
    {
     "data": {
      "text/plain": [
       "<keras.callbacks.History at 0x7fd91c62c0b8>"
      ]
     },
     "execution_count": 68,
     "metadata": {},
     "output_type": "execute_result"
    }
   ],
   "source": [
    "epochs = 3\n",
    "batch_size=256\n",
    "model.fit(x=dataset_train, y=dataset_train_labels, epochs=epochs, batch_size=batch_size)"
   ]
  },
  {
   "cell_type": "markdown",
   "metadata": {},
   "source": [
    "# Evaluate "
   ]
  },
  {
   "cell_type": "code",
   "execution_count": 69,
   "metadata": {},
   "outputs": [
    {
     "name": "stdout",
     "output_type": "stream",
     "text": [
      "154016/154016 [==============================] - 3s 18us/step\n"
     ]
    },
    {
     "data": {
      "text/plain": [
       "[0.43764204309458743, 0.8037281840600022]"
      ]
     },
     "execution_count": 69,
     "metadata": {},
     "output_type": "execute_result"
    }
   ],
   "source": [
    "model.evaluate(dataset_train, dataset_train_labels, batch_size=batch_size)"
   ]
  },
  {
   "cell_type": "code",
   "execution_count": 70,
   "metadata": {},
   "outputs": [
    {
     "name": "stdout",
     "output_type": "stream",
     "text": [
      "65984/65984 [==============================] - 1s 17us/step\n"
     ]
    },
    {
     "data": {
      "text/plain": [
       "[0.4631225170150298, 0.7895550435891323]"
      ]
     },
     "execution_count": 70,
     "metadata": {},
     "output_type": "execute_result"
    }
   ],
   "source": [
    "model.evaluate(dataset_valid, dataset_valid_labels, batch_size=batch_size)"
   ]
  },
  {
   "cell_type": "code",
   "execution_count": 363,
   "metadata": {},
   "outputs": [
    {
     "name": "stdout",
     "output_type": "stream",
     "text": [
      "(65984, 1)\n"
     ]
    }
   ],
   "source": [
    "result = model.predict(dataset_valid, batch_size=batch_size)\n",
    "print(result.shape)"
   ]
  },
  {
   "cell_type": "markdown",
   "metadata": {},
   "source": [
    "# Predict"
   ]
  },
  {
   "cell_type": "code",
   "execution_count": 104,
   "metadata": {},
   "outputs": [],
   "source": [
    "predicted_classes = model.predict_classes(dataset_valid)\n",
    "predicted_probabilities = model.predict_proba(dataset_valid)"
   ]
  },
  {
   "cell_type": "code",
   "execution_count": 105,
   "metadata": {},
   "outputs": [
    {
     "data": {
      "text/plain": [
       "(65984, 1)"
      ]
     },
     "execution_count": 105,
     "metadata": {},
     "output_type": "execute_result"
    }
   ],
   "source": [
    "predicted_classes.shape"
   ]
  },
  {
   "cell_type": "code",
   "execution_count": 106,
   "metadata": {},
   "outputs": [
    {
     "data": {
      "text/plain": [
       "307"
      ]
     },
     "execution_count": 106,
     "metadata": {},
     "output_type": "execute_result"
    }
   ],
   "source": [
    "np.sum(predicted_classes)"
   ]
  },
  {
   "cell_type": "code",
   "execution_count": 107,
   "metadata": {},
   "outputs": [
    {
     "data": {
      "text/plain": [
       "(65984, 1)"
      ]
     },
     "execution_count": 107,
     "metadata": {},
     "output_type": "execute_result"
    }
   ],
   "source": [
    "predicted_probabilities.shape"
   ]
  },
  {
   "cell_type": "markdown",
   "metadata": {},
   "source": [
    "# Confusion Matrix"
   ]
  },
  {
   "cell_type": "code",
   "execution_count": 108,
   "metadata": {},
   "outputs": [],
   "source": [
    "from sklearn.metrics import roc_auc_score, confusion_matrix"
   ]
  },
  {
   "cell_type": "code",
   "execution_count": 109,
   "metadata": {},
   "outputs": [
    {
     "data": {
      "text/plain": [
       "array([[38830,   292],\n",
       "       [26847,    15]])"
      ]
     },
     "execution_count": 109,
     "metadata": {},
     "output_type": "execute_result"
    }
   ],
   "source": [
    "confusion_matrix(dataset_valid_labels, predicted_classes)"
   ]
  },
  {
   "cell_type": "markdown",
   "metadata": {},
   "source": [
    "# AUC"
   ]
  },
  {
   "cell_type": "code",
   "execution_count": 1,
   "metadata": {},
   "outputs": [],
   "source": []
  },
  {
   "cell_type": "code",
   "execution_count": 110,
   "metadata": {},
   "outputs": [
    {
     "data": {
      "text/plain": [
       "0.44142371464942814"
      ]
     },
     "execution_count": 110,
     "metadata": {},
     "output_type": "execute_result"
    }
   ],
   "source": [
    "roc_auc_score(dataset_valid_labels, predicted_probabilities)"
   ]
  },
  {
   "cell_type": "code",
   "execution_count": null,
   "metadata": {},
   "outputs": [],
   "source": []
  },
  {
   "cell_type": "code",
   "execution_count": null,
   "metadata": {},
   "outputs": [],
   "source": []
  },
  {
   "cell_type": "code",
   "execution_count": null,
   "metadata": {},
   "outputs": [],
   "source": []
  },
  {
   "cell_type": "markdown",
   "metadata": {},
   "source": [
    "# CNN Realtime data augmentation"
   ]
  },
  {
   "cell_type": "code",
   "execution_count": 73,
   "metadata": {},
   "outputs": [],
   "source": [
    "from keras.preprocessing.image import ImageDataGenerator"
   ]
  },
  {
   "cell_type": "code",
   "execution_count": 74,
   "metadata": {},
   "outputs": [
    {
     "name": "stdout",
     "output_type": "stream",
     "text": [
      "Train dataset shape: (154016, 32, 32, 3)\n",
      "Train dataset labels shape: (154016, 1)\n"
     ]
    }
   ],
   "source": [
    "print('Train dataset shape: ' + str(dataset_train.shape))\n",
    "print('Train dataset labels shape: ' + str(dataset_train_labels.shape))"
   ]
  },
  {
   "cell_type": "code",
   "execution_count": 93,
   "metadata": {},
   "outputs": [],
   "source": [
    "datagenerator = ImageDataGenerator(\n",
    "    featurewise_center=True,\n",
    "    featurewise_std_normalization=True,\n",
    "    rotation_range=20,\n",
    "    width_shift_range=0.2,\n",
    "    height_shift_range=0.2,\n",
    "    horizontal_flip=True)"
   ]
  },
  {
   "cell_type": "code",
   "execution_count": 94,
   "metadata": {},
   "outputs": [],
   "source": [
    "# compute quantities required for featurewise normalization\n",
    "# (std, mean, and principal components if ZCA whitening is applied)\n",
    "datagenerator.fit(dataset_train)"
   ]
  },
  {
   "cell_type": "code",
   "execution_count": 95,
   "metadata": {},
   "outputs": [
    {
     "name": "stdout",
     "output_type": "stream",
     "text": [
      "Steps per epoch: 601.625\n"
     ]
    }
   ],
   "source": [
    "# fits the model on batches with real-time data augmentation:\n",
    "epochs = 1\n",
    "batch_size = 256\n",
    "steps_per_epoch = len(dataset_train) / batch_size\n",
    "print('Steps per epoch: ' + str(steps_per_epoch))"
   ]
  },
  {
   "cell_type": "markdown",
   "metadata": {},
   "source": [
    "## Train model"
   ]
  },
  {
   "cell_type": "code",
   "execution_count": 96,
   "metadata": {},
   "outputs": [
    {
     "name": "stdout",
     "output_type": "stream",
     "text": [
      "Epoch 1/1\n",
      "602/601 [==============================] - 56s 93ms/step - loss: 0.9363 - acc: 0.6998\n"
     ]
    },
    {
     "data": {
      "text/plain": [
       "<keras.callbacks.History at 0x7fd9402f1b38>"
      ]
     },
     "execution_count": 96,
     "metadata": {},
     "output_type": "execute_result"
    }
   ],
   "source": [
    "data_iterator = datagenerator.flow(x=dataset_train, y=dataset_train_labels, batch_size=batch_size)\n",
    "model.fit_generator(data_iterator, steps_per_epoch=steps_per_epoch, epochs=epochs)"
   ]
  },
  {
   "cell_type": "markdown",
   "metadata": {},
   "source": [
    "## Evaluate model on train set"
   ]
  },
  {
   "cell_type": "code",
   "execution_count": 97,
   "metadata": {},
   "outputs": [],
   "source": [
    "datagenerator = ImageDataGenerator(\n",
    "    featurewise_center=True,\n",
    "    featurewise_std_normalization=True)"
   ]
  },
  {
   "cell_type": "code",
   "execution_count": 98,
   "metadata": {},
   "outputs": [],
   "source": [
    "datagenerator.fit(dataset_train)"
   ]
  },
  {
   "cell_type": "code",
   "execution_count": 99,
   "metadata": {},
   "outputs": [],
   "source": [
    "data_iterator = datagenerator.flow(x=dataset_train, y=dataset_train_labels, batch_size=batch_size)"
   ]
  },
  {
   "cell_type": "code",
   "execution_count": 100,
   "metadata": {},
   "outputs": [
    {
     "name": "stdout",
     "output_type": "stream",
     "text": [
      "602/601 [==============================] - 6s 9ms/step\n"
     ]
    },
    {
     "data": {
      "text/plain": [
       "[0.5239950958418792, 0.742059266569707]"
      ]
     },
     "execution_count": 100,
     "metadata": {},
     "output_type": "execute_result"
    }
   ],
   "source": [
    "steps = data_iterator.n / data_iterator.batch_size\n",
    "model.evaluate_generator(data_iterator, steps=steps, verbose=1)"
   ]
  },
  {
   "cell_type": "code",
   "execution_count": 101,
   "metadata": {},
   "outputs": [],
   "source": [
    "datagenerator = ImageDataGenerator(\n",
    "    featurewise_center=True,\n",
    "    featurewise_std_normalization=True)"
   ]
  },
  {
   "cell_type": "code",
   "execution_count": 102,
   "metadata": {},
   "outputs": [],
   "source": [
    "datagenerator.fit(dataset_valid)\n",
    "data_iterator = datagenerator.flow(x=dataset_valid, y=dataset_valid_labels, batch_size=batch_size)"
   ]
  },
  {
   "cell_type": "code",
   "execution_count": 103,
   "metadata": {},
   "outputs": [
    {
     "name": "stdout",
     "output_type": "stream",
     "text": [
      "258/257 [==============================] - 2s 9ms/step\n"
     ]
    },
    {
     "data": {
      "text/plain": [
       "[0.5309237111088839, 0.7461657371483996]"
      ]
     },
     "execution_count": 103,
     "metadata": {},
     "output_type": "execute_result"
    }
   ],
   "source": [
    "steps = data_iterator.n / data_iterator.batch_size\n",
    "model.evaluate_generator(data_iterator, steps=steps, verbose=1)"
   ]
  },
  {
   "cell_type": "code",
   "execution_count": 425,
   "metadata": {},
   "outputs": [
    {
     "data": {
      "text/plain": [
       "<keras.preprocessing.image.ImageDataGenerator at 0x7f7b018d9ba8>"
      ]
     },
     "execution_count": 425,
     "metadata": {},
     "output_type": "execute_result"
    }
   ],
   "source": [
    "datagenerator."
   ]
  },
  {
   "cell_type": "code",
   "execution_count": null,
   "metadata": {},
   "outputs": [],
   "source": []
  }
 ],
 "metadata": {
  "kernelspec": {
   "display_name": "Python 3",
   "language": "python",
   "name": "python3"
  },
  "language_info": {
   "codemirror_mode": {
    "name": "ipython",
    "version": 3
   },
   "file_extension": ".py",
   "mimetype": "text/x-python",
   "name": "python",
   "nbconvert_exporter": "python",
   "pygments_lexer": "ipython3",
   "version": "3.6.7"
  }
 },
 "nbformat": 4,
 "nbformat_minor": 2
}
